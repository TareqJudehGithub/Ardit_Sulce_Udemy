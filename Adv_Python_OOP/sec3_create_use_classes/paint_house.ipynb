{
  "nbformat": 4,
  "nbformat_minor": 0,
  "metadata": {
    "colab": {
      "name": "Copy of paint_house.ipynb",
      "provenance": [],
      "collapsed_sections": []
    },
    "kernelspec": {
      "name": "python3",
      "display_name": "Python 3"
    },
    "language_info": {
      "name": "python"
    }
  },
  "cells": [
    {
      "cell_type": "code",
      "metadata": {
        "id": "VMljfqs2L4-Y",
        "colab": {
          "base_uri": "https://localhost:8080/"
        },
        "outputId": "ecd3b8af-c080-4e21-c5f8-932ba7c8dad7"
      },
      "source": [
        "# caculate house painting area and cose\n",
        "\n",
        "# creating a house class with area attribute\n",
        "class House:\n",
        "  def __init__(self, wall_area):\n",
        "    \"\"\"Constructor\"\"\"\n",
        "    self.wall_area = wall_area\n",
        "\n",
        "  # methods\n",
        "  def paint_amount(self, wall_area):\n",
        "    bucket_capacity = 2.5\n",
        "    return self.wall_area * bucket_capacity\n",
        "\n",
        "# instantiate house obj\n",
        "house_1 = House(40)\n",
        "\n",
        "# calculate paint amount for house_1\n",
        "paint_needed = house_1.paint_amount(house_1)\n",
        "print(\"Paint amount needed for house_1 is %d\" % paint_needed)\n",
        "\n",
        "  "
      ],
      "execution_count": null,
      "outputs": [
        {
          "output_type": "stream",
          "name": "stdout",
          "text": [
            "Paint amount needed for house_1 is 100\n"
          ]
        }
      ]
    },
    {
      "cell_type": "code",
      "metadata": {
        "colab": {
          "base_uri": "https://localhost:8080/"
        },
        "id": "vOg6cZEs7syG",
        "outputId": "27840000-ceb6-40f3-9475-a72c619ee1e1"
      },
      "source": [
        "# paint class with paint color and buckets count attribute\n",
        "\n",
        "class Paint:\n",
        "  def __init__(self, color, buckets):\n",
        "    \"\"\"Constructor\"\"\"\n",
        "    self.color = color\n",
        "    self.buckets = buckets\n",
        "  \n",
        "  def paint_price(self, color, buckets):\n",
        "    color = self.color\n",
        "    buckets = self.buckets\n",
        "\n",
        "    if color == \"white\".lower():\n",
        "      return buckets * 1.5\n",
        "    else:\n",
        "      return buckets * 2.5\n",
        "\n",
        "# instantiate painting obj\n",
        "white_paint = Paint(\"white\", 10)\n",
        "beige_paint = Paint(\"beige\", 10)\n",
        "\n",
        "white_price = white_paint.paint_price(white_paint.color, white_paint.paint_price)\n",
        "beige_price = beige_paint.paint_price(beige_paint.color, beige_paint.paint_price)\n",
        "\n",
        "print(f\"Price of white painting = {white_price}\")\n",
        "print(f\"Price of beige painting = {beige_price}\")\n",
        "\n",
        "\n",
        "\n",
        "\n",
        "\n"
      ],
      "execution_count": null,
      "outputs": [
        {
          "output_type": "stream",
          "name": "stdout",
          "text": [
            "Price of white painting = 15.0\n",
            "Price of beige painting = 25.0\n"
          ]
        }
      ]
    },
    {
      "cell_type": "code",
      "metadata": {
        "id": "mq8PYfS9Fr-O"
      },
      "source": [
        ""
      ],
      "execution_count": null,
      "outputs": []
    }
  ]
}