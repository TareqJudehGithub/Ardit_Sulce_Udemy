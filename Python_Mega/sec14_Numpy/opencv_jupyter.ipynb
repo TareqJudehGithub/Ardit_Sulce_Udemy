{
 "cells": [
  {
   "cell_type": "code",
   "execution_count": 11,
   "id": "0475fbe9",
   "metadata": {},
   "outputs": [],
   "source": [
    "import cv2"
   ]
  },
  {
   "cell_type": "code",
   "execution_count": null,
   "id": "1a6588e3",
   "metadata": {},
   "outputs": [],
   "source": [
    "# 1. Creating arrays from images"
   ]
  },
  {
   "cell_type": "code",
   "execution_count": 9,
   "id": "a203db10",
   "metadata": {},
   "outputs": [
    {
     "data": {
      "text/plain": [
       "array([[187, 158, 104, 121, 143],\n",
       "       [198, 125, 255, 255, 147],\n",
       "       [209, 134, 255,  97, 182]], dtype=uint8)"
      ]
     },
     "execution_count": 9,
     "metadata": {},
     "output_type": "execute_result"
    }
   ],
   "source": [
    "# read image  in grayscale\n",
    "img_gray = cv2.imread(\"./images/smallgray.png\", 0)\n",
    "img_gray\n"
   ]
  },
  {
   "cell_type": "code",
   "execution_count": 10,
   "id": "c26e5047",
   "metadata": {
    "scrolled": false
   },
   "outputs": [
    {
     "data": {
      "text/plain": [
       "array([[[187, 187, 187],\n",
       "        [158, 158, 158],\n",
       "        [104, 104, 104],\n",
       "        [121, 121, 121],\n",
       "        [143, 143, 143]],\n",
       "\n",
       "       [[198, 198, 198],\n",
       "        [125, 125, 125],\n",
       "        [255, 255, 255],\n",
       "        [255, 255, 255],\n",
       "        [147, 147, 147]],\n",
       "\n",
       "       [[209, 209, 209],\n",
       "        [134, 134, 134],\n",
       "        [255, 255, 255],\n",
       "        [ 97,  97,  97],\n",
       "        [182, 182, 182]]], dtype=uint8)"
      ]
     },
     "execution_count": 10,
     "metadata": {},
     "output_type": "execute_result"
    }
   ],
   "source": [
    "# read the image in rgb\n",
    "img_rgb = cv2.imread(\"./images/smallgray.png\", 1)\n",
    "img_rgb"
   ]
  },
  {
   "cell_type": "code",
   "execution_count": 12,
   "id": "8c7a3b22",
   "metadata": {},
   "outputs": [],
   "source": [
    "# 2. Creating images from numpy arrays"
   ]
  },
  {
   "cell_type": "code",
   "execution_count": 15,
   "id": "0188d350",
   "metadata": {},
   "outputs": [
    {
     "data": {
      "text/plain": [
       "True"
      ]
     },
     "execution_count": 15,
     "metadata": {},
     "output_type": "execute_result"
    }
   ],
   "source": [
    "arr_to_img = cv2.imwrite(\"./images/new_img.png\", img_gray)\n",
    "arr_to_img\n"
   ]
  },
  {
   "cell_type": "code",
   "execution_count": 17,
   "id": "54ae7852",
   "metadata": {},
   "outputs": [
    {
     "data": {
      "text/plain": [
       "array([[187, 158, 104, 121, 143],\n",
       "       [198, 125, 255, 255, 147],\n",
       "       [209, 134, 255,  97, 182]], dtype=uint8)"
      ]
     },
     "execution_count": 17,
     "metadata": {},
     "output_type": "execute_result"
    }
   ],
   "source": [
    "# Indexing, slicing, and iterating numpy arrays\n",
    "img_arr = cv2.imread(\"./images/image_01.png\", 0)\n",
    "img_arr"
   ]
  },
  {
   "cell_type": "code",
   "execution_count": 19,
   "id": "e79e0c64",
   "metadata": {},
   "outputs": [
    {
     "data": {
      "text/plain": [
       "array([[255, 147],\n",
       "       [ 97, 182]], dtype=uint8)"
      ]
     },
     "execution_count": 19,
     "metadata": {},
     "output_type": "execute_result"
    }
   ],
   "source": [
    "# give me the last two items from the 2nd and the 3rd lists.\n",
    "result = img_arr[1:, -2:]\n",
    "result"
   ]
  },
  {
   "cell_type": "code",
   "execution_count": 25,
   "id": "c9cd16bc",
   "metadata": {
    "scrolled": true
   },
   "outputs": [
    {
     "name": "stdout",
     "output_type": "stream",
     "text": [
      "[187 158 104 121 143]\n",
      "[198 125 255 255 147]\n",
      "[209 134 255  97 182]\n"
     ]
    }
   ],
   "source": [
    "# iterating over numpy arrays\n",
    "\n",
    "# for loop\n",
    "for i in img_arr:\n",
    "    print(i)"
   ]
  },
  {
   "cell_type": "code",
   "execution_count": 27,
   "id": "03ab91d1",
   "metadata": {},
   "outputs": [
    {
     "name": "stdout",
     "output_type": "stream",
     "text": [
      "[187 198 209]\n",
      "[158 125 134]\n",
      "[104 255 255]\n",
      "[121 255  97]\n",
      "[143 147 182]\n"
     ]
    }
   ],
   "source": [
    "# iterate over array columns\n",
    "for i in img_arr.T:\n",
    "    print(i)"
   ]
  },
  {
   "cell_type": "code",
   "execution_count": 29,
   "id": "f67bbcfc",
   "metadata": {},
   "outputs": [
    {
     "name": "stdout",
     "output_type": "stream",
     "text": [
      "187\n",
      "158\n",
      "104\n",
      "121\n",
      "143\n",
      "198\n",
      "125\n",
      "255\n",
      "255\n",
      "147\n",
      "209\n",
      "134\n",
      "255\n",
      "97\n",
      "182\n"
     ]
    }
   ],
   "source": [
    "# iterate value by value\n",
    "for i in img_arr.flat:\n",
    "    print(i)"
   ]
  },
  {
   "cell_type": "code",
   "execution_count": null,
   "id": "5b5143dd",
   "metadata": {},
   "outputs": [],
   "source": [
    "# stocking(combining) numpy arrays\n",
    "\n",
    "# stack two or more numpy arrays horizontally\n",
    "new_arr = cv2.h\n"
   ]
  }
 ],
 "metadata": {
  "kernelspec": {
   "display_name": "Python 3 (ipykernel)",
   "language": "python",
   "name": "python3"
  },
  "language_info": {
   "codemirror_mode": {
    "name": "ipython",
    "version": 3
   },
   "file_extension": ".py",
   "mimetype": "text/x-python",
   "name": "python",
   "nbconvert_exporter": "python",
   "pygments_lexer": "ipython3",
   "version": "3.9.7"
  }
 },
 "nbformat": 4,
 "nbformat_minor": 5
}
